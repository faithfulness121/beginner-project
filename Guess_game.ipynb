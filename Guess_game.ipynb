{
  "nbformat": 4,
  "nbformat_minor": 0,
  "metadata": {
    "colab": {
      "provenance": [],
      "authorship_tag": "ABX9TyMaUu6zGfhqKh8NazDjBqrJ",
      "include_colab_link": true
    },
    "kernelspec": {
      "name": "python3",
      "display_name": "Python 3"
    },
    "language_info": {
      "name": "python"
    }
  },
  "cells": [
    {
      "cell_type": "markdown",
      "metadata": {
        "id": "view-in-github",
        "colab_type": "text"
      },
      "source": [
        "<a href=\"https://colab.research.google.com/github/faithfulness121/beginner-project/blob/main/Guess_game.ipynb\" target=\"_parent\"><img src=\"https://colab.research.google.com/assets/colab-badge.svg\" alt=\"Open In Colab\"/></a>"
      ]
    },
    {
      "cell_type": "code",
      "source": [
        "import random\n",
        "\n",
        "number = random.randint(1, 100)\n",
        "\n",
        "print(\"Welcome to the Guess the Number game!\")\n",
        "print(\"I'm thinking of a number between 1 and 100. Can you guess what it is?\")\n",
        "\n",
        "while True:\n",
        "    guess = int(input(\"Enter your guess: \"))\n",
        "\n",
        "    if guess < number:\n",
        "        print(\"Your guess is too low. Guess again.\")\n",
        "    elif guess > number:\n",
        "        print(\"Your guess is too high. Guess again.\")\n",
        "    else:\n",
        "        print(\"Congratulations! You guessed the number correctly!\")\n",
        "        break\n"
      ],
      "metadata": {
        "colab": {
          "base_uri": "https://localhost:8080/"
        },
        "id": "Xkd1tiGyjgCK",
        "outputId": "f1e752b1-3e16-469c-b601-2f8fbdbcd88a"
      },
      "execution_count": null,
      "outputs": [
        {
          "output_type": "stream",
          "name": "stdout",
          "text": [
            "Welcome to the Guess the Number game!\n",
            "I'm thinking of a number between 1 and 100. Can you guess what it is?\n",
            "Enter your guess: 50\n",
            "Your guess is too high. Guess again.\n",
            "Enter your guess: 25\n",
            "Your guess is too low. Guess again.\n",
            "Enter your guess: 37\n",
            "Your guess is too low. Guess again.\n",
            "Enter your guess: 20\n",
            "Your guess is too low. Guess again.\n",
            "Enter your guess: 21\n",
            "Your guess is too low. Guess again.\n",
            "Enter your guess: 60\n",
            "Your guess is too high. Guess again.\n",
            "Enter your guess: 30\n",
            "Your guess is too low. Guess again.\n",
            "Enter your guess: 47\n",
            "Congratulations! You guessed the number correctly!\n"
          ]
        }
      ]
    },
    {
      "cell_type": "markdown",
      "source": [
        "Define the list: list = [17, 38, 10, 25, 72], then perform the following actions:\n",
        "\n",
        "    Sort and display the list\n",
        "    Add the element 12 to the list and display the list\n",
        "    Reverse and display the list\n",
        "    Display the index of the element 17\n",
        "    Remove the element 38 and display the list\n",
        "    Display the sublist from the 2nd to the 3rd element\n",
        "    Display the sublist from the beginning to the 2nd element\n",
        "    Display the sublist from the 3rd element to the end of the list\n",
        "    Display the complete sublist of the list\n",
        "    Display the last element using negative indexing."
      ],
      "metadata": {
        "id": "k5fdn7ui2pU7"
      }
    },
    {
      "cell_type": "code",
      "source": [
        "number = [17, 38, 10, 25, 72]\n",
        "print(\"original list:\",number)\n",
        "number.append(12)\n",
        "\n",
        "print(\"updated list:\",number)\n",
        "number.reverse()\n",
        "print(\"reversed list:\",number)\n",
        "print(\"index of 17:\",number.index(17))\n",
        "number.remove(38)\n",
        "print(\"updated list:\",number)\n",
        "print(\"sublist from the 2nd to the 3rd element:\",number[1:3])\n",
        "print(\"sublist from the beginning to the 2nd element:\",number[:2])\n",
        "print(\"sublist from the 3rd element to the end of the list:\",number[2:])\n",
        "print(\"complete sublist of the list:\",number[:])\n",
        "print(\"last element using negative indexing:\",number[-1])\n"
      ],
      "metadata": {
        "colab": {
          "base_uri": "https://localhost:8080/"
        },
        "id": "H7uXtvGI4MM2",
        "outputId": "d127380e-5e24-4f6f-b3c8-77e54112e2aa"
      },
      "execution_count": null,
      "outputs": [
        {
          "output_type": "stream",
          "name": "stdout",
          "text": [
            "original list: [17, 38, 10, 25, 72]\n",
            "updated list: [17, 38, 10, 25, 72, 12]\n",
            "reversed list: [12, 72, 25, 10, 38, 17]\n",
            "index of 17: 5\n",
            "updated list: [12, 72, 25, 10, 17]\n",
            "sublist from the 2nd to the 3rd element: [72, 25]\n",
            "sublist from the beginning to the 2nd element: [12, 72]\n",
            "sublist from the 3rd element to the end of the list: [25, 10, 17]\n",
            "complete sublist of the list: [12, 72, 25, 10, 17]\n",
            "last element using negative indexing: 17\n"
          ]
        }
      ]
    },
    {
      "cell_type": "code",
      "source": [
        "set1 ={'1','2','3','4','5'}\n",
        "set2 ={'4','5','6','7','8'}"
      ],
      "metadata": {
        "id": "TSuY6lSgq6wl"
      },
      "execution_count": null,
      "outputs": []
    },
    {
      "cell_type": "code",
      "source": [
        "set1.union(set2)"
      ],
      "metadata": {
        "colab": {
          "base_uri": "https://localhost:8080/"
        },
        "id": "34_0PhoFrlBE",
        "outputId": "88739307-f070-4c05-e57c-8dbf1f602611"
      },
      "execution_count": null,
      "outputs": [
        {
          "output_type": "execute_result",
          "data": {
            "text/plain": [
              "{'1', '2', '3', '4', '5', '6', '7', '8'}"
            ]
          },
          "metadata": {},
          "execution_count": 2
        }
      ]
    },
    {
      "cell_type": "code",
      "source": [
        "print(set1.intersection(set2))"
      ],
      "metadata": {
        "colab": {
          "base_uri": "https://localhost:8080/"
        },
        "id": "1J1Kqn8Qrv5_",
        "outputId": "161b2d42-2bf4-4fcc-a143-c3cda4e905e3"
      },
      "execution_count": null,
      "outputs": [
        {
          "output_type": "stream",
          "name": "stdout",
          "text": [
            "{'4', '5'}\n"
          ]
        }
      ]
    },
    {
      "cell_type": "code",
      "source": [
        "print(set1.difference(set2))"
      ],
      "metadata": {
        "colab": {
          "base_uri": "https://localhost:8080/"
        },
        "id": "OhKjHV-zr9oF",
        "outputId": "14578bbe-aae0-4610-a219-761fe6c29b9a"
      },
      "execution_count": null,
      "outputs": [
        {
          "output_type": "stream",
          "name": "stdout",
          "text": [
            "{'1', '2', '3'}\n"
          ]
        }
      ]
    },
    {
      "cell_type": "code",
      "source": [
        "print(set1.symmetric_difference(set2))"
      ],
      "metadata": {
        "colab": {
          "base_uri": "https://localhost:8080/"
        },
        "id": "1ELE4aW_sjv_",
        "outputId": "2082a3d0-af9b-4fd5-d0e2-630180169d59"
      },
      "execution_count": null,
      "outputs": [
        {
          "output_type": "stream",
          "name": "stdout",
          "text": [
            "{'1', '7', '2', '8', '6', '3'}\n"
          ]
        }
      ]
    },
    {
      "cell_type": "code",
      "source": [
        "\n",
        "x =(\"1\",\"2\",\"3\",)\n",
        "y=list(x)\n",
        "y.append(\"4\")\n",
        "x=tuple(y)\n",
        "print(x)\n"
      ],
      "metadata": {
        "colab": {
          "base_uri": "https://localhost:8080/"
        },
        "id": "XSEKNZHS1TJl",
        "outputId": "a6144182-5e40-4475-a74a-f4bf7c44431b"
      },
      "execution_count": null,
      "outputs": [
        {
          "output_type": "stream",
          "name": "stdout",
          "text": [
            "('1', '2', '3', '4')\n"
          ]
        }
      ]
    },
    {
      "cell_type": "code",
      "source": [
        "def greet():\n",
        "  print(\"hello faith\")"
      ],
      "metadata": {
        "id": "zM1UtQ_o5p3p"
      },
      "execution_count": null,
      "outputs": []
    },
    {
      "cell_type": "code",
      "source": [
        "print(greet())"
      ],
      "metadata": {
        "colab": {
          "base_uri": "https://localhost:8080/"
        },
        "id": "NuzWIZCf5_dw",
        "outputId": "93765ece-a93e-43ce-dc23-9f0ad8a79b0d"
      },
      "execution_count": null,
      "outputs": [
        {
          "output_type": "stream",
          "name": "stdout",
          "text": [
            "hello faith\n",
            "None\n"
          ]
        }
      ]
    },
    {
      "cell_type": "code",
      "source": [
        "# function\n",
        "def course_func(name, course_name):\n",
        "    print(\"Hello\", name, \"Welcome to PYnative\")\n",
        "    print(\"Your course name is\", course_name)\n",
        "    course_func(\"David\", \"python\")"
      ],
      "metadata": {
        "id": "XouTtn4k7tfc"
      },
      "execution_count": null,
      "outputs": []
    },
    {
      "cell_type": "code",
      "source": [
        "def add_numbers(num1, num2):\n",
        "    sum = num1 + num2\n",
        "    print(\"sum:\", sum)\n",
        "    add_numbers(5, 4)\n",
        "\n",
        "    print(add_numbers)"
      ],
      "metadata": {
        "id": "oEm227orA9im"
      },
      "execution_count": null,
      "outputs": []
    },
    {
      "cell_type": "code",
      "source": [],
      "metadata": {
        "id": "wyrMNp2oCasB"
      },
      "execution_count": null,
      "outputs": []
    },
    {
      "cell_type": "code",
      "source": [],
      "metadata": {
        "id": "N6iaqk6PBpx0"
      },
      "execution_count": null,
      "outputs": []
    },
    {
      "cell_type": "code",
      "source": [],
      "metadata": {
        "id": "FdfQpTJABp_D"
      },
      "execution_count": null,
      "outputs": []
    },
    {
      "cell_type": "code",
      "source": [
        "num1 =3\n",
        "num2 =4"
      ],
      "metadata": {
        "id": "-ZWIZY-3A9u2"
      },
      "execution_count": null,
      "outputs": []
    },
    {
      "cell_type": "code",
      "source": [],
      "metadata": {
        "id": "IHmkroR7Cbip"
      },
      "execution_count": null,
      "outputs": []
    },
    {
      "cell_type": "code",
      "source": [
        "a =[1,2,3,4]"
      ],
      "metadata": {
        "id": "2gf5zQwSCbkL"
      },
      "execution_count": null,
      "outputs": []
    },
    {
      "cell_type": "code",
      "source": [
        "print(len(a))"
      ],
      "metadata": {
        "colab": {
          "base_uri": "https://localhost:8080/"
        },
        "id": "y5NLolGACboH",
        "outputId": "86555f21-cc65-4482-ae21-7aa403fa900a"
      },
      "execution_count": null,
      "outputs": [
        {
          "output_type": "stream",
          "name": "stdout",
          "text": [
            "4\n"
          ]
        }
      ]
    },
    {
      "cell_type": "code",
      "source": [],
      "metadata": {
        "id": "Z8q3Z62fEoxp"
      },
      "execution_count": null,
      "outputs": []
    },
    {
      "cell_type": "code",
      "source": [],
      "metadata": {
        "id": "PpFcXr93Eo51"
      },
      "execution_count": null,
      "outputs": []
    },
    {
      "cell_type": "code",
      "source": [
        "for i in a:\n",
        "  print(i)"
      ],
      "metadata": {
        "colab": {
          "base_uri": "https://localhost:8080/"
        },
        "id": "G-2GVI_ICbp1",
        "outputId": "40419d41-9523-4415-adaa-d36f60918490"
      },
      "execution_count": null,
      "outputs": [
        {
          "output_type": "stream",
          "name": "stdout",
          "text": [
            "1\n",
            "2\n",
            "3\n",
            "4\n"
          ]
        }
      ]
    },
    {
      "cell_type": "code",
      "source": [
        "me = ['l','i','s','t','e']"
      ],
      "metadata": {
        "id": "0tJCNoVoCbtk"
      },
      "execution_count": null,
      "outputs": []
    },
    {
      "cell_type": "code",
      "source": [
        "print(len(me))"
      ],
      "metadata": {
        "colab": {
          "base_uri": "https://localhost:8080/"
        },
        "id": "ztCXMiGzCbvT",
        "outputId": "0da6f969-773a-4a78-a399-e648fa43e31b"
      },
      "execution_count": null,
      "outputs": [
        {
          "output_type": "stream",
          "name": "stdout",
          "text": [
            "5\n"
          ]
        }
      ]
    },
    {
      "cell_type": "code",
      "source": [
        "for i in me:\n",
        "  print(i)"
      ],
      "metadata": {
        "colab": {
          "base_uri": "https://localhost:8080/"
        },
        "id": "8gqlG1HMCbye",
        "outputId": "ae246ca5-9128-4d8c-890f-6b6069d81db7"
      },
      "execution_count": null,
      "outputs": [
        {
          "output_type": "stream",
          "name": "stdout",
          "text": [
            "l\n",
            "i\n",
            "s\n",
            "t\n",
            "e\n"
          ]
        }
      ]
    },
    {
      "cell_type": "code",
      "source": [
        "def length(liste):\n",
        "  s = 0"
      ],
      "metadata": {
        "id": "1Ygw-atHCb1j"
      },
      "execution_count": null,
      "outputs": []
    },
    {
      "cell_type": "code",
      "source": [
        "for i in length:\n",
        "\n"
      ],
      "metadata": {
        "colab": {
          "base_uri": "https://localhost:8080/",
          "height": 106
        },
        "id": "mcEZ7guoEB5J",
        "outputId": "f11d2b3e-5774-40cd-e4d1-2eb4079f85fe"
      },
      "execution_count": null,
      "outputs": [
        {
          "output_type": "error",
          "ename": "SyntaxError",
          "evalue": "incomplete input (<ipython-input-87-5fc2d64f154a>, line 3)",
          "traceback": [
            "\u001b[0;36m  File \u001b[0;32m\"<ipython-input-87-5fc2d64f154a>\"\u001b[0;36m, line \u001b[0;32m3\u001b[0m\n\u001b[0;31m    \u001b[0m\n\u001b[0m    ^\u001b[0m\n\u001b[0;31mSyntaxError\u001b[0m\u001b[0;31m:\u001b[0m incomplete input\n"
          ]
        }
      ]
    },
    {
      "cell_type": "code",
      "source": [
        "n1 =100\n",
        "n2=1000"
      ],
      "metadata": {
        "id": "1noCOdrbEqGs"
      },
      "execution_count": null,
      "outputs": []
    },
    {
      "cell_type": "code",
      "source": [
        "from ast import Return\n",
        "def add_numbers(n1=100, n2=1000):\n",
        "    result = n1 + n2\n",
        "    return(result)\n",
        "result = add_numbers(5.3)\n",
        "print(result)"
      ],
      "metadata": {
        "colab": {
          "base_uri": "https://localhost:8080/"
        },
        "id": "hvo0ZaatEqPR",
        "outputId": "8441f78b-5e60-4bba-c4c7-da0f478b3efc"
      },
      "execution_count": null,
      "outputs": [
        {
          "output_type": "stream",
          "name": "stdout",
          "text": [
            "1005.3\n"
          ]
        }
      ]
    },
    {
      "cell_type": "code",
      "source": [
        "a =2\n",
        "b=1"
      ],
      "metadata": {
        "id": "bR5Y4Pa0EqQ5"
      },
      "execution_count": null,
      "outputs": []
    },
    {
      "cell_type": "code",
      "source": [
        "def add_numbers(a,b):\n",
        "      sum = a + b\n",
        "      return(sum)\n",
        "result= add_numbers(2,1)\n",
        "print(result)"
      ],
      "metadata": {
        "colab": {
          "base_uri": "https://localhost:8080/"
        },
        "id": "ZomWFXatEqU-",
        "outputId": "2bcbe40f-e4a9-4936-a95e-59788a330a38"
      },
      "execution_count": null,
      "outputs": [
        {
          "output_type": "stream",
          "name": "stdout",
          "text": [
            "3\n"
          ]
        }
      ]
    },
    {
      "cell_type": "code",
      "source": [
        "num1 =float(input(\"enter first Number\"))\n",
        "num2 =float(input(\"enter second Number\"))\n",
        "\n",
        "def calculator(num1,num2):\n",
        "  Operator = input(\"enter the operator(+, -, *, /): \")\n",
        "  if Operator == '+':\n",
        "    print(num1 + num2)\n",
        "  elif Operator == '-':\n",
        "    print(num1 - num2)\n",
        "  elif Operator == '*':\n",
        "    print(num1 * num2)\n",
        "  elif Operator == '/':\n",
        "    print(num1 / num2)\n",
        "  else:\n",
        "    print(\"Invalid Operator\")\n",
        "(calculator(num1, num2))"
      ],
      "metadata": {
        "id": "1rlfDMYMEqW7",
        "colab": {
          "base_uri": "https://localhost:8080/"
        },
        "outputId": "a82a0f6c-e288-41a6-947c-7146a4c65779"
      },
      "execution_count": null,
      "outputs": [
        {
          "output_type": "stream",
          "name": "stdout",
          "text": [
            "enter first Number10\n",
            "enter second Number5\n",
            "enter the operator(+, -, *, /): *\n",
            "50.0\n"
          ]
        }
      ]
    },
    {
      "cell_type": "code",
      "source": [
        "\n",
        "class player:\n",
        "  def __init__(self,name,hp):\n",
        "    self.name = name\n",
        "    self.hp =100\n",
        "\n",
        "  def take_damage(self,damage):\n",
        "    self.hp -= damage\n",
        "\n",
        "player1 =player(\"weldone\", 100)\n",
        "\n",
        "player1.take_damage(20)\n",
        "print(player1.hp)\n",
        "\n",
        "print(f\"({player1.name}) has ({player1.hp}) hitpoint remaining.\")"
      ],
      "metadata": {
        "colab": {
          "base_uri": "https://localhost:8080/"
        },
        "id": "UGdE-uGo6vsL",
        "outputId": "f1e807ac-9571-43cc-849f-ca22c39b9ff8"
      },
      "execution_count": null,
      "outputs": [
        {
          "output_type": "stream",
          "name": "stdout",
          "text": [
            "80\n",
            "(weldone) has (80) hitpoint remaining.\n"
          ]
        }
      ]
    },
    {
      "cell_type": "code",
      "source": [
        "\n",
        "class account:\n",
        "         def __init__(self,account_number:str, account_balance:float,account_holder:str):\n",
        "          self.account_number = account_number\n",
        "          self.account_balance = account_balance\n",
        "          self.__account_holder =account_holder\n",
        "\n",
        "\n",
        "         def deposit(self,amount:float):\n",
        "            self.account_balance += amount\n",
        "            return(self.account_balance)\n",
        "\n",
        "\n",
        "         def withdraw(self,amount:float):\n",
        "              if self.account_balance >= amount:\n",
        "                self.account_balance -= amount\n",
        "                print(f\"withdraw of {amount} was successfully\")\n",
        "                return(self.account_balance)\n",
        "              else:\n",
        "                      print(f\"insufficient balance\")\n",
        "                      print(self.account_balance)\n",
        "\n",
        "         def check_balance(self):\n",
        "               return(self.account_balance)\n",
        "\n",
        "\n",
        "\n",
        "\n",
        "\n",
        "\n",
        "\n",
        "#creating an instance of the account clas"
      ],
      "metadata": {
        "id": "ryXFwK7R6vt3"
      },
      "execution_count": null,
      "outputs": []
    },
    {
      "cell_type": "code",
      "source": [
        "import numpy as np\n"
      ],
      "metadata": {
        "id": "0t0rYcceD-bs"
      },
      "execution_count": null,
      "outputs": []
    },
    {
      "cell_type": "code",
      "source": [
        "grades =np.array([[85, 90, 88, 92, 95, 80, 75, 98, 89, 83]])"
      ],
      "metadata": {
        "id": "MsRYk1G2D-e2"
      },
      "execution_count": null,
      "outputs": []
    },
    {
      "cell_type": "code",
      "source": [
        "np.mean(grades)"
      ],
      "metadata": {
        "id": "WE3DTGbxD-gr",
        "colab": {
          "base_uri": "https://localhost:8080/"
        },
        "outputId": "b5120092-4c9e-4f30-ad8d-c085b8c2548e"
      },
      "execution_count": null,
      "outputs": [
        {
          "output_type": "execute_result",
          "data": {
            "text/plain": [
              "np.float64(87.5)"
            ]
          },
          "metadata": {},
          "execution_count": 10
        }
      ]
    },
    {
      "cell_type": "code",
      "source": [
        "np.median(grades)"
      ],
      "metadata": {
        "id": "3ty9q6vlD-kr",
        "colab": {
          "base_uri": "https://localhost:8080/"
        },
        "outputId": "9067702e-ddb3-4940-8c1e-ac805d06e623"
      },
      "execution_count": null,
      "outputs": [
        {
          "output_type": "execute_result",
          "data": {
            "text/plain": [
              "np.float64(88.5)"
            ]
          },
          "metadata": {},
          "execution_count": 11
        }
      ]
    },
    {
      "cell_type": "code",
      "source": [
        "(\"arr : \", grades)\n",
        "print(\"std of grades: \", np.std(grades))"
      ],
      "metadata": {
        "colab": {
          "base_uri": "https://localhost:8080/"
        },
        "id": "bBMKgG6V7ICv",
        "outputId": "1140128d-5579-4b1b-ebbf-a312fadc24a8"
      },
      "execution_count": null,
      "outputs": [
        {
          "output_type": "stream",
          "name": "stdout",
          "text": [
            "arr :  [[85 90 88 92 95 80 75 98 89 83]]\n",
            "std of grades:  6.591661399070799\n"
          ]
        }
      ]
    },
    {
      "cell_type": "code",
      "source": [
        "np.argmax(grades)"
      ],
      "metadata": {
        "id": "2hFFsaUH6vx2",
        "colab": {
          "base_uri": "https://localhost:8080/"
        },
        "outputId": "4bf21bb3-a1b4-499c-bb36-cf183dab5df5"
      },
      "execution_count": null,
      "outputs": [
        {
          "output_type": "execute_result",
          "data": {
            "text/plain": [
              "np.int64(7)"
            ]
          },
          "metadata": {},
          "execution_count": 13
        }
      ]
    },
    {
      "cell_type": "code",
      "source": [
        "np.sort(grades)"
      ],
      "metadata": {
        "colab": {
          "base_uri": "https://localhost:8080/"
        },
        "id": "n5SbMaix7Xm3",
        "outputId": "966d8313-d23f-4083-c39f-4f1481c761d2"
      },
      "execution_count": null,
      "outputs": [
        {
          "output_type": "execute_result",
          "data": {
            "text/plain": [
              "array([[75, 80, 83, 85, 88, 89, 90, 92, 95, 98]])"
            ]
          },
          "metadata": {},
          "execution_count": 14
        }
      ]
    },
    {
      "cell_type": "code",
      "source": [
        "print(\"arr :\", grades)\n",
        "print(\"std of grades: \", np.std(grades))"
      ],
      "metadata": {
        "colab": {
          "base_uri": "https://localhost:8080/"
        },
        "id": "nXJyyCMk7XzA",
        "outputId": "c4097256-caf3-4593-fc14-0802fc43040c"
      },
      "execution_count": null,
      "outputs": [
        {
          "output_type": "stream",
          "name": "stdout",
          "text": [
            "arr : [[85 90 88 92 95 80 75 98 89 83]]\n",
            "std of grades:  6.591661399070799\n"
          ]
        }
      ]
    },
    {
      "cell_type": "code",
      "source": [
        "count =np.sum(grades>90)\n",
        "print(count)"
      ],
      "metadata": {
        "id": "68BD3abS8Nf3",
        "colab": {
          "base_uri": "https://localhost:8080/"
        },
        "outputId": "e67846d1-d7d0-4cd7-c652-14098b3278fc"
      },
      "execution_count": null,
      "outputs": [
        {
          "output_type": "stream",
          "name": "stdout",
          "text": [
            "3\n"
          ]
        }
      ]
    },
    {
      "cell_type": "code",
      "source": [
        "above_90 = np.mean(grades > 90)*100\n",
        "print(above_90)"
      ],
      "metadata": {
        "colab": {
          "base_uri": "https://localhost:8080/"
        },
        "id": "xbAfdknn0YLS",
        "outputId": "0a82019e-3c02-41bf-fc50-3341e438fbb0"
      },
      "execution_count": null,
      "outputs": [
        {
          "output_type": "stream",
          "name": "stdout",
          "text": [
            "30.0\n"
          ]
        }
      ]
    },
    {
      "cell_type": "code",
      "source": [
        "75 =np.grades(grades >75)\n",
        "print(75)"
      ],
      "metadata": {
        "colab": {
          "base_uri": "https://localhost:8080/",
          "height": 106
        },
        "id": "9gN1AhXZ06m_",
        "outputId": "2e5141b3-b16f-4ffd-d1aa-f566b04a8ffd"
      },
      "execution_count": null,
      "outputs": [
        {
          "output_type": "error",
          "ename": "SyntaxError",
          "evalue": "cannot assign to literal here. Maybe you meant '==' instead of '='? (<ipython-input-17-04df2a9745ba>, line 1)",
          "traceback": [
            "\u001b[0;36m  File \u001b[0;32m\"<ipython-input-17-04df2a9745ba>\"\u001b[0;36m, line \u001b[0;32m1\u001b[0m\n\u001b[0;31m    75 =np.grades(grades >75)\u001b[0m\n\u001b[0m    ^\u001b[0m\n\u001b[0;31mSyntaxError\u001b[0m\u001b[0;31m:\u001b[0m cannot assign to literal here. Maybe you meant '==' instead of '='?\n"
          ]
        }
      ]
    },
    {
      "cell_type": "code",
      "source": [],
      "metadata": {
        "id": "l-Z-coFN060p"
      },
      "execution_count": null,
      "outputs": []
    }
  ]
}