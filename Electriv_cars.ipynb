{
  "nbformat": 4,
  "nbformat_minor": 0,
  "metadata": {
    "colab": {
      "provenance": [],
      "authorship_tag": "ABX9TyMybkTKpJoociVeX4DU6Yvs",
      "include_colab_link": true
    },
    "kernelspec": {
      "name": "python3",
      "display_name": "Python 3"
    },
    "language_info": {
      "name": "python"
    }
  },
  "cells": [
    {
      "cell_type": "markdown",
      "metadata": {
        "id": "view-in-github",
        "colab_type": "text"
      },
      "source": [
        "<a href=\"https://colab.research.google.com/github/faithfulness121/beginner-project/blob/main/Electriv_cars.ipynb\" target=\"_parent\"><img src=\"https://colab.research.google.com/assets/colab-badge.svg\" alt=\"Open In Colab\"/></a>"
      ]
    },
    {
      "cell_type": "code",
      "execution_count": null,
      "metadata": {
        "id": "aTj9ECcte1v2"
      },
      "outputs": [],
      "source": [
        "#importing libraries\n",
        "import pandas as pd\n",
        "import numpy as np\n",
        "import matplotlib  as plt\n",
        "import seaborn as sns\n",
        "from sklearn.model_selection import train_test_split\n",
        "from sklearn.preprocessing import LabelEncoder\n",
        "from sklearn.svm import SVR\n",
        "from sklearn.metrics import classification_report, confusion_matrix\n",
        "from sklearn.preprocessing import StandardScaler\n",
        "!pip install ydata-profiling\n",
        "from ydata_profiling import ProfileReport\n",
        "from google.colab import drive\n",
        "drive.mount('/content/drive')"
      ]
    },
    {
      "cell_type": "code",
      "source": [
        "#loading dataset\n",
        "df= pd.read_csv('/content//Electric_cars_dataset.csv')\n",
        "df.head()"
      ],
      "metadata": {
        "collapsed": true,
        "id": "Vt6K4vAMi5Sh"
      },
      "execution_count": null,
      "outputs": []
    },
    {
      "cell_type": "code",
      "source": [
        "#explorring data\n",
        "print(\"\\--- Dataset Info ---\")\n",
        "print(df.info())\n",
        "\n",
        "print(\"\\n--- Dataset Description ---\")\n",
        "print(df.describe())\n",
        "\n",
        "print(\"\\n--- Duplicates ---\")\n",
        "print(\"Duplicates:\", df.duplicated().sum())"
      ],
      "metadata": {
        "id": "Q8ezEl5VjXL_"
      },
      "execution_count": null,
      "outputs": []
    },
    {
      "cell_type": "code",
      "source": [
        "columns = df.columns.tolist()\n",
        "print(columns)"
      ],
      "metadata": {
        "id": "q__mBQKpvPNg"
      },
      "execution_count": null,
      "outputs": []
    },
    {
      "cell_type": "code",
      "source": [
        "profile =ProfileReport(df, title='Electric car', explorative=True)\n",
        "profile.to_notebook_iframe()"
      ],
      "metadata": {
        "collapsed": true,
        "id": "afDseD1EtVUg"
      },
      "execution_count": null,
      "outputs": []
    },
    {
      "cell_type": "code",
      "source": [
        "df = df.drop_duplicates()\n",
        "df = df.drop(columns=['ID', 'VIN (1-10)', 'DOL Vehicle ID', 'Vehicle Location'])\n"
      ],
      "metadata": {
        "id": "S8UXAeYG24r3"
      },
      "execution_count": null,
      "outputs": []
    },
    {
      "cell_type": "code",
      "source": [
        "# Display missing values\n",
        "missing = df.isnull().sum()\n",
        "\n",
        "df['Expected Price ($1k)'] = pd.to_numeric(df['Expected Price ($1k)'], errors='coerce')\n",
        "\n",
        "# Drop rows with missing target\n",
        "df = df.dropna(subset=['Expected Price ($1k)'])"
      ],
      "metadata": {
        "id": "7FabZh0JzgIG"
      },
      "execution_count": null,
      "outputs": []
    },
    {
      "cell_type": "code",
      "source": [
        "# Separate numerical and categorical columns\n",
        "numerical_cols = df.select_dtypes(include=['number']).columns\n",
        "categorical_cols = df.select_dtypes(include=['object', 'category']).columns\n",
        "\n",
        "# Fill numerical missing values with median\n",
        "for col in numerical_cols:\n",
        "    df[col].fillna(df[col].median(), inplace=True)\n",
        "\n",
        "# Fill categorical missing values with mode or 'Unknown'\n",
        "for col in categorical_cols:\n",
        "    if df[col].isnull().sum() > 0:\n",
        "        mode = df[col].mode()\n",
        "        if not mode.empty:\n",
        "            df[col].fillna(mode[0], inplace=True)\n",
        "        else:\n",
        "            df[col].fillna('Unknown', inplace=True)\n",
        "\n",
        "# Display missing values after handling\n",
        "missing_after = df.isnull().sum()\n",
        "\n",
        "missing, missing_after\n",
        "\n",
        "\n"
      ],
      "metadata": {
        "id": "eCEnktjLlRsj",
        "collapsed": true
      },
      "execution_count": null,
      "outputs": []
    },
    {
      "cell_type": "code",
      "source": [
        "le = LabelEncoder()\n",
        "for col in df.select_dtypes(include='object').columns:\n",
        "    df[col] = le.fit_transform(df[col])\n"
      ],
      "metadata": {
        "id": "cTY6A3-zzuMY"
      },
      "execution_count": null,
      "outputs": []
    },
    {
      "cell_type": "code",
      "source": [
        "# Handle outliers using IQR method\n",
        "\n",
        "# Select only numerical columns for outlier detection\n",
        "numerical_df = df.select_dtypes(include=np.number)\n",
        "\n",
        "Q1 = numerical_df.quantile(0.25)\n",
        "Q3 = numerical_df.quantile(0.75)\n",
        "IQR = Q3 - Q1\n",
        "\n",
        "# Create a boolean mask for outliers in numerical columns\n",
        "outlier_mask = ((numerical_df < (Q1 - 1.5 * IQR)) | (numerical_df > (Q3 + 1.5 * IQR))).any(axis=1)\n",
        "\n",
        "# Filter the original DataFrame using the boolean mask\n",
        "df = df[outlier_mask]\n",
        "\n",
        "display(df.head())"
      ],
      "metadata": {
        "id": "gfNzA9CWqgA-",
        "collapsed": true
      },
      "execution_count": null,
      "outputs": []
    },
    {
      "cell_type": "code",
      "source": [
        "df_encoded = pd.get_dummies(df, drop_first=True)\n",
        "\n",
        "# Select features and target\n",
        "X = df_encoded.drop(columns=['Expected Price ($1k)'])\n",
        "y = df_encoded['Expected Price ($1k)']\n"
      ],
      "metadata": {
        "id": "0IdDp2zIwmZZ"
      },
      "execution_count": null,
      "outputs": []
    },
    {
      "cell_type": "code",
      "source": [
        "from sklearn.svm import SVR\n",
        "from sklearn.metrics import mean_squared_error, r2_score\n",
        "\n",
        "# Train/Test Split\n",
        "X_train, X_test, y_train, y_test = train_test_split(X, y, test_size=0.2, random_state=42)\n",
        "\n",
        "# standardizing\n",
        "scaler = StandardScaler()\n",
        "X_train_scaled = scaler.fit_transform(X_train)\n",
        "X_test_scaled = scaler.transform(X_test)\n",
        "\n",
        "#MODEL\n",
        "# Use SVR for regression\n",
        "svm_model = SVR(kernel='linear')\n",
        "svm_model.fit(X_train_scaled, y_train)\n",
        "\n",
        "# Evaluate the Model\n",
        "y_pred = svm_model.predict(X_test_scaled)\n",
        "\n",
        "# Use regression evaluation metrics\n",
        "mse = mean_squared_error(y_test, y_pred)\n",
        "r2 = r2_score(y_test, y_pred)\n",
        "\n",
        "print(\"\\n--- Evaluation Metrics ---\")\n",
        "print(f\"Mean Squared Error: {mse:.2f}\")\n",
        "print(f\"R-squared: {r2:.2f}\")"
      ],
      "metadata": {
        "id": "uel54qj2iOHB"
      },
      "execution_count": null,
      "outputs": []
    },
    {
      "cell_type": "code",
      "source": [
        "from sklearn.model_selection import GridSearchCV\n",
        "from sklearn.metrics import mean_squared_error, r2_score, mean_absolute_error\n",
        "import numpy as np\n",
        "from sklearn.svm import SVR\n",
        "\n",
        "# Define parameter grid\n",
        "param_grid = {\n",
        "    'C': [0.1, 1, 10],\n",
        "    'gamma': ['scale', 0.01, 0.1],\n",
        "    'epsilon': [0.1, 0.5, 1.0],\n",
        "    'kernel': ['rbf']\n",
        "}\n",
        "\n",
        "# Grid Search with Cross-Validation\n",
        "grid_search = GridSearchCV(SVR(), param_grid, cv=3, scoring='r2', verbose=1, n_jobs=-1)\n",
        "grid_search.fit(X_train_scaled, y_train)\n",
        "\n",
        "# Best Parameters and Score\n",
        "print(\"Best Parameters:\", grid_search.best_params_)\n",
        "print(\"Best Cross-Validation R² Score:\", grid_search.best_score_)\n",
        "\n",
        "# Evaluate on Test Set\n",
        "best_model = grid_search.best_estimator_\n",
        "y_pred = best_model.predict(X_test_scaled)\n",
        "\n",
        "mae = mean_absolute_error(y_test, y_pred)\n",
        "rmse = np.sqrt(mean_squared_error(y_test, y_pred))\n",
        "r2 = r2_score(y_test, y_pred)\n",
        "\n",
        "print(\"\\nTest Set Evaluation:\")\n",
        "print(\"MAE:\", mae)\n",
        "print(\"RMSE:\", rmse)\n",
        "print(\"R²:\", r2)"
      ],
      "metadata": {
        "colab": {
          "base_uri": "https://localhost:8080/"
        },
        "id": "U4Ujsral3KQV",
        "outputId": "76324f8b-aee8-4f33-a3c5-60dda3c4b00c"
      },
      "execution_count": 77,
      "outputs": [
        {
          "output_type": "stream",
          "name": "stdout",
          "text": [
            "Fitting 3 folds for each of 27 candidates, totalling 81 fits\n",
            "Best Parameters: {'C': 10, 'epsilon': 1.0, 'gamma': 0.1, 'kernel': 'rbf'}\n",
            "Best Cross-Validation R² Score: 0.6389165814051151\n",
            "\n",
            "Test Set Evaluation:\n",
            "MAE: 5.082624269175062\n",
            "RMSE: 11.70088113511914\n",
            "R²: 0.751892891052353\n"
          ]
        }
      ]
    }
  ]
}